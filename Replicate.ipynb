{
  "nbformat": 4,
  "nbformat_minor": 0,
  "metadata": {
    "colab": {
      "provenance": [],
      "toc_visible": true,
      "include_colab_link": true
    },
    "kernelspec": {
      "name": "python3",
      "display_name": "Python 3"
    },
    "language_info": {
      "name": "python"
    }
  },
  "cells": [
    {
      "cell_type": "markdown",
      "metadata": {
        "id": "view-in-github",
        "colab_type": "text"
      },
      "source": [
        "<a href=\"https://colab.research.google.com/github/ateffal/AlgoDesign/blob/master/Replicate.ipynb\" target=\"_parent\"><img src=\"https://colab.research.google.com/assets/colab-badge.svg\" alt=\"Open In Colab\"/></a>"
      ]
    },
    {
      "cell_type": "markdown",
      "source": [
        "# Getting Started with Replicate\n",
        "This notebook shows how to run models on [Replicate](https://replicate.com).\n",
        "\n",
        "Last updated: 2023-04-24"
      ],
      "metadata": {
        "id": "UXa9IwkeokWH"
      }
    },
    {
      "cell_type": "markdown",
      "source": [
        ">[Run a model from Python](#updateTitle=true&folderId=18DKj1jLZ00WQAwMRuIYM22n5yGpZzb1r&scrollTo=UXa9IwkeokWH)\n",
        "\n",
        ">[Setup](#updateTitle=true&folderId=18DKj1jLZ00WQAwMRuIYM22n5yGpZzb1r&scrollTo=ep0A2pLDnoWK)\n",
        "\n",
        ">[Run a model](#updateTitle=true&folderId=18DKj1jLZ00WQAwMRuIYM22n5yGpZzb1r&scrollTo=Ax6xbVZOpnaV)\n",
        "\n",
        ">[Run a model in the background](#updateTitle=true&folderId=18DKj1jLZ00WQAwMRuIYM22n5yGpZzb1r&scrollTo=xLvskaxwtswn)\n",
        "\n",
        ">[Run a model in the background and get a webhook](#updateTitle=true&folderId=18DKj1jLZ00WQAwMRuIYM22n5yGpZzb1r&scrollTo=X7ZZHjNrunwr)\n",
        "\n",
        ">[Compose models into a pipeline](#updateTitle=true&folderId=18DKj1jLZ00WQAwMRuIYM22n5yGpZzb1r&scrollTo=xyfeLTILu3ad)\n",
        "\n",
        ">[Get streaming output from a running model](#updateTitle=true&folderId=18DKj1jLZ00WQAwMRuIYM22n5yGpZzb1r&scrollTo=WM47DByLrk5l)\n",
        "\n",
        ">[Cancel a prediction](#updateTitle=true&folderId=18DKj1jLZ00WQAwMRuIYM22n5yGpZzb1r&scrollTo=K7kZwHzLwWoM)\n",
        "\n",
        ">[Load output files](#updateTitle=true&folderId=18DKj1jLZ00WQAwMRuIYM22n5yGpZzb1r&scrollTo=5cuMDPg1xjQZ)\n",
        "\n",
        ">[Next steps](#updateTitle=true&folderId=18DKj1jLZ00WQAwMRuIYM22n5yGpZzb1r&scrollTo=vz6FASGXsefP)\n",
        "\n"
      ],
      "metadata": {
        "colab_type": "toc",
        "id": "0rJP51rc6p3r"
      }
    },
    {
      "cell_type": "markdown",
      "source": [
        "# Setup\n",
        "\n",
        "To run this notebook, you’ll need to create a [Replicate](https://replicate.com) account and install the Replicate python client."
      ],
      "metadata": {
        "id": "ep0A2pLDnoWK"
      }
    },
    {
      "cell_type": "code",
      "source": [
        "# install replicate client\n",
        "!pip install replicate"
      ],
      "metadata": {
        "id": "JLTW6u8LnkDg"
      },
      "execution_count": null,
      "outputs": []
    },
    {
      "cell_type": "code",
      "source": [
        "# get a token: https://replicate.com/account\n",
        "from getpass import getpass\n",
        "import os\n",
        "\n",
        "REPLICATE_API_TOKEN = getpass()\n",
        "os.environ[\"REPLICATE_API_TOKEN\"] = REPLICATE_API_TOKEN"
      ],
      "metadata": {
        "colab": {
          "base_uri": "https://localhost:8080/"
        },
        "id": "5ZTkrAUhoIJE",
        "outputId": "00e01b2d-cef4-4ad1-e5bb-4a253d0f35ab"
      },
      "execution_count": 2,
      "outputs": [
        {
          "name": "stdout",
          "output_type": "stream",
          "text": [
            "··········\n"
          ]
        }
      ]
    },
    {
      "cell_type": "markdown",
      "source": [
        "# Run a model\n",
        "You can run any public model on Replicate from your Python code. The following example runs [stability-ai/stable-diffusion](https://replicate.com/stability-ai/stable-diffusion):"
      ],
      "metadata": {
        "id": "Ax6xbVZOpnaV"
      }
    },
    {
      "cell_type": "code",
      "source": [
        "import replicate\n",
        "\n",
        "output = replicate.run(\n",
        "  \"stability-ai/stable-diffusion:27b93a2413e7f36cd83da926f3656280b2931564ff050bf9575f1fdf9bcd7478\",\n",
        "  input={\"prompt\": \"an iguana on the beach, pointillism\"}\n",
        ")\n",
        "\n",
        "output"
      ],
      "metadata": {
        "colab": {
          "base_uri": "https://localhost:8080/"
        },
        "id": "eQCcYU6_nXub",
        "outputId": "411b37cd-efc3-4a5f-cc73-0ec370362007"
      },
      "execution_count": 3,
      "outputs": [
        {
          "output_type": "execute_result",
          "data": {
            "text/plain": [
              "['https://pbxt.replicate.delivery/fCR02sWTsrTFGSSwscwcaM2POmzaNabetAgYG3KtyiwaxUuRA/out-0.png']"
            ]
          },
          "metadata": {},
          "execution_count": 3
        }
      ]
    },
    {
      "cell_type": "code",
      "source": [
        "from IPython.display import Image\n",
        "Image(url=output[0])"
      ],
      "metadata": {
        "colab": {
          "base_uri": "https://localhost:8080/",
          "height": 533
        },
        "id": "l2sNBQg-pywR",
        "outputId": "1ce0a9dc-a1e4-4291-d1e9-652a1d399f1c"
      },
      "execution_count": 4,
      "outputs": [
        {
          "output_type": "execute_result",
          "data": {
            "text/html": [
              "<img src=\"https://pbxt.replicate.delivery/fCR02sWTsrTFGSSwscwcaM2POmzaNabetAgYG3KtyiwaxUuRA/out-0.png\"/>"
            ],
            "text/plain": [
              "<IPython.core.display.Image object>"
            ]
          },
          "metadata": {},
          "execution_count": 4
        }
      ]
    },
    {
      "cell_type": "markdown",
      "source": [
        "Some models receive images as inputs. To pass a file as an input, use a file handle or URL:"
      ],
      "metadata": {
        "id": "zUZBwKOYqozu"
      }
    },
    {
      "cell_type": "code",
      "source": [
        "# image = open(\"mystery.jpg\", \"rb\")\n",
        "# or...\n",
        "# image = \"https://example.com/mystery.jpg\"\n",
        "#\n",
        "# for this example, let's use the URL from the previous prediction:\n",
        "image = output[0]\n",
        "\n",
        "replicate.run(\n",
        "  \"andreasjansson/blip-2:4b32258c42e9efd4288bb9910bc532a69727f9acd26aa08e175713a0a857a608\",\n",
        "  input={\"image\": output[0], \"prompt\": \"what's in this picture?\"}\n",
        ")"
      ],
      "metadata": {
        "colab": {
          "base_uri": "https://localhost:8080/",
          "height": 35
        },
        "id": "NaQ3Jytoqyk5",
        "outputId": "7df93e38-2ef3-45cb-8042-844a3a9944d9"
      },
      "execution_count": 5,
      "outputs": [
        {
          "output_type": "execute_result",
          "data": {
            "text/plain": [
              "'an iguana'"
            ],
            "application/vnd.google.colaboratory.intrinsic+json": {
              "type": "string"
            }
          },
          "metadata": {},
          "execution_count": 5
        }
      ]
    },
    {
      "cell_type": "markdown",
      "source": [
        "# Run a model in the background\n",
        "You can start a model and run it in the background:"
      ],
      "metadata": {
        "id": "xLvskaxwtswn"
      }
    },
    {
      "cell_type": "code",
      "source": [
        "model = replicate.models.get(\"stability-ai/stablelm-tuned-alpha-7b\")\n",
        "version = model.versions.get(\"c49dae362cbaecd2ceabb5bd34fdb68413c4ff775111fea065d259d577757beb\")\n",
        "\n",
        "prediction = replicate.predictions.create(\n",
        "    version=version,\n",
        "    input={\"prompt\":\"I want to test someone's communication skills. Give me 3 questions to ask him.\"})"
      ],
      "metadata": {
        "id": "v0SlZt3Otx6Q"
      },
      "execution_count": 13,
      "outputs": []
    },
    {
      "cell_type": "code",
      "source": [
        "prediction"
      ],
      "metadata": {
        "colab": {
          "base_uri": "https://localhost:8080/"
        },
        "id": "IIA6_2auuFe2",
        "outputId": "ccdc4c1a-4b46-4ac9-cc73-6ca2a9e2d9ec"
      },
      "execution_count": 14,
      "outputs": [
        {
          "output_type": "execute_result",
          "data": {
            "text/plain": [
              "Prediction(id='wxt7cxbbxy4iqln56iq2eo2uha', version=Version(id='c49dae362cbaecd2ceabb5bd34fdb68413c4ff775111fea065d259d577757beb', created_at=datetime.datetime(2023, 4, 20, 23, 7, 42, 348263, tzinfo=datetime.timezone.utc), cog_version='0.7.0-beta17', openapi_schema={'info': {'title': 'Cog', 'version': '0.1.0'}, 'paths': {'/': {'get': {'summary': 'Root', 'responses': {'200': {'content': {'application/json': {'schema': {'title': 'Response Root  Get'}}}, 'description': 'Successful Response'}}, 'operationId': 'root__get'}}, '/shutdown': {'post': {'summary': 'Start Shutdown', 'responses': {'200': {'content': {'application/json': {'schema': {'title': 'Response Start Shutdown Shutdown Post'}}}, 'description': 'Successful Response'}}, 'operationId': 'start_shutdown_shutdown_post'}}, '/predictions': {'post': {'summary': 'Predict', 'responses': {'200': {'content': {'application/json': {'schema': {'$ref': '#/components/schemas/PredictionResponse'}}}, 'description': 'Successful Response'}, '422': {'content': {'application/json': {'schema': {'$ref': '#/components/schemas/HTTPValidationError'}}}, 'description': 'Validation Error'}}, 'parameters': [{'in': 'header', 'name': 'prefer', 'schema': {'type': 'string', 'title': 'Prefer'}, 'required': False}], 'description': 'Run a single prediction on the model', 'operationId': 'predict_predictions_post', 'requestBody': {'content': {'application/json': {'schema': {'$ref': '#/components/schemas/PredictionRequest'}}}}}}, '/health-check': {'get': {'summary': 'Healthcheck', 'responses': {'200': {'content': {'application/json': {'schema': {'title': 'Response Healthcheck Health Check Get'}}}, 'description': 'Successful Response'}}, 'operationId': 'healthcheck_health_check_get'}}, '/predictions/{prediction_id}': {'put': {'summary': 'Predict Idempotent', 'responses': {'200': {'content': {'application/json': {'schema': {'$ref': '#/components/schemas/PredictionResponse'}}}, 'description': 'Successful Response'}, '422': {'content': {'application/json': {'schema': {'$ref': '#/components/schemas/HTTPValidationError'}}}, 'description': 'Validation Error'}}, 'parameters': [{'in': 'path', 'name': 'prediction_id', 'schema': {'type': 'string', 'title': 'Prediction ID'}, 'required': True}, {'in': 'header', 'name': 'prefer', 'schema': {'type': 'string', 'title': 'Prefer'}, 'required': False}], 'description': 'Run a single prediction on the model (idempotent creation).', 'operationId': 'predict_idempotent_predictions__prediction_id__put', 'requestBody': {'content': {'application/json': {'schema': {'allOf': [{'$ref': '#/components/schemas/PredictionRequest'}], 'title': 'Prediction Request'}}}, 'required': True}}}, '/predictions/{prediction_id}/cancel': {'post': {'summary': 'Cancel', 'responses': {'200': {'content': {'application/json': {'schema': {'title': 'Response Cancel Predictions  Prediction Id  Cancel Post'}}}, 'description': 'Successful Response'}, '422': {'content': {'application/json': {'schema': {'$ref': '#/components/schemas/HTTPValidationError'}}}, 'description': 'Validation Error'}}, 'parameters': [{'in': 'path', 'name': 'prediction_id', 'schema': {'type': 'string', 'title': 'Prediction ID'}, 'required': True}], 'description': 'Cancel a running prediction', 'operationId': 'cancel_predictions__prediction_id__cancel_post'}}}, 'openapi': '3.0.2', 'components': {'schemas': {'Input': {'type': 'object', 'title': 'Input', 'properties': {'top_p': {'type': 'number', 'title': 'Top P', 'default': 1, 'maximum': 1, 'minimum': 0.01, 'x-order': 2, 'description': 'Valid if you choose top_p decoding. When decoding text, samples from the top p percentage of most likely tokens; lower to ignore less likely tokens'}, 'prompt': {'type': 'string', 'title': 'Prompt', 'default': \"What's your mood today?\", 'x-order': 0, 'description': 'Input Prompt.'}, 'max_tokens': {'type': 'integer', 'title': 'Max Tokens', 'default': 100, 'minimum': 1, 'x-order': 1, 'description': 'Maximum number of tokens to generate. A word is generally 2-3 tokens'}, 'temperature': {'type': 'number', 'title': 'Temperature', 'default': 0.75, 'maximum': 5, 'minimum': 0.01, 'x-order': 3, 'description': 'Adjusts randomness of outputs, greater than 1 is random and 0 is deterministic, 0.75 is a good starting value.'}, 'repetition_penalty': {'type': 'number', 'title': 'Repetition Penalty', 'default': 1.2, 'maximum': 5, 'minimum': 0.01, 'x-order': 4, 'description': 'Penalty for repeated words in generated text; 1 is no penalty, values greater than 1 discourage repetition, less than 1 encourage it.'}}}, 'Output': {'type': 'array', 'items': {'type': 'string'}, 'title': 'Output', 'x-cog-array-type': 'iterator', 'x-cog-array-display': 'concatenate'}, 'Status': {'enum': ['starting', 'processing', 'succeeded', 'canceled', 'failed'], 'type': 'string', 'title': 'Status', 'description': 'An enumeration.'}, 'WebhookEvent': {'enum': ['start', 'output', 'logs', 'completed'], 'type': 'string', 'title': 'WebhookEvent', 'description': 'An enumeration.'}, 'ValidationError': {'type': 'object', 'title': 'ValidationError', 'required': ['loc', 'msg', 'type'], 'properties': {'loc': {'type': 'array', 'items': {'anyOf': [{'type': 'string'}, {'type': 'integer'}]}, 'title': 'Location'}, 'msg': {'type': 'string', 'title': 'Message'}, 'type': {'type': 'string', 'title': 'Error Type'}}}, 'PredictionRequest': {'type': 'object', 'title': 'PredictionRequest', 'properties': {'id': {'type': 'string', 'title': 'Id'}, 'input': {'$ref': '#/components/schemas/Input'}, 'webhook': {'type': 'string', 'title': 'Webhook', 'format': 'uri', 'maxLength': 65536, 'minLength': 1}, 'created_at': {'type': 'string', 'title': 'Created At', 'format': 'date-time'}, 'output_file_prefix': {'type': 'string', 'title': 'Output File Prefix'}, 'webhook_events_filter': {'type': 'array', 'items': {'$ref': '#/components/schemas/WebhookEvent'}, 'default': ['output', 'logs', 'completed', 'start'], 'uniqueItems': True}}}, 'PredictionResponse': {'type': 'object', 'title': 'PredictionResponse', 'properties': {'id': {'type': 'string', 'title': 'Id'}, 'logs': {'type': 'string', 'title': 'Logs', 'default': ''}, 'error': {'type': 'string', 'title': 'Error'}, 'input': {'$ref': '#/components/schemas/Input'}, 'output': {'$ref': '#/components/schemas/Output'}, 'status': {'$ref': '#/components/schemas/Status'}, 'metrics': {'type': 'object', 'title': 'Metrics'}, 'version': {'type': 'string', 'title': 'Version'}, 'created_at': {'type': 'string', 'title': 'Created At', 'format': 'date-time'}, 'started_at': {'type': 'string', 'title': 'Started At', 'format': 'date-time'}, 'completed_at': {'type': 'string', 'title': 'Completed At', 'format': 'date-time'}}}, 'HTTPValidationError': {'type': 'object', 'title': 'HTTPValidationError', 'properties': {'detail': {'type': 'array', 'items': {'$ref': '#/components/schemas/ValidationError'}, 'title': 'Detail'}}}}}}), status='starting', input={'prompt': \"I want to test someone's communication skills. Give me 3 questions to ask him.\"}, output=None, logs='', error=None, metrics=None, created_at='2023-10-15T07:56:24.797390702Z', started_at=None, completed_at=None, urls={'cancel': 'https://api.replicate.com/v1/predictions/wxt7cxbbxy4iqln56iq2eo2uha/cancel', 'get': 'https://api.replicate.com/v1/predictions/wxt7cxbbxy4iqln56iq2eo2uha'})"
            ]
          },
          "metadata": {},
          "execution_count": 14
        }
      ]
    },
    {
      "cell_type": "code",
      "source": [
        "prediction.status"
      ],
      "metadata": {
        "colab": {
          "base_uri": "https://localhost:8080/",
          "height": 35
        },
        "id": "oJ5Mll-JuPXl",
        "outputId": "f0996829-8000-43bd-949c-5a95ea52738d"
      },
      "execution_count": 15,
      "outputs": [
        {
          "output_type": "execute_result",
          "data": {
            "text/plain": [
              "'starting'"
            ],
            "application/vnd.google.colaboratory.intrinsic+json": {
              "type": "string"
            }
          },
          "metadata": {},
          "execution_count": 15
        }
      ]
    },
    {
      "cell_type": "code",
      "source": [
        "dict(prediction).keys()"
      ],
      "metadata": {
        "colab": {
          "base_uri": "https://localhost:8080/"
        },
        "id": "owP4pydEuQ-A",
        "outputId": "27d56825-9f2d-4dff-a99e-f371690cdf16"
      },
      "execution_count": 16,
      "outputs": [
        {
          "output_type": "execute_result",
          "data": {
            "text/plain": [
              "dict_keys(['id', 'version', 'status', 'input', 'output', 'logs', 'error', 'metrics', 'created_at', 'started_at', 'completed_at', 'urls'])"
            ]
          },
          "metadata": {},
          "execution_count": 16
        }
      ]
    },
    {
      "cell_type": "code",
      "source": [
        "prediction.reload()"
      ],
      "metadata": {
        "id": "q6rKX8e7uXRd"
      },
      "execution_count": 17,
      "outputs": []
    },
    {
      "cell_type": "code",
      "source": [
        "prediction.status"
      ],
      "metadata": {
        "colab": {
          "base_uri": "https://localhost:8080/",
          "height": 35
        },
        "id": "eLma8KgJuZ9t",
        "outputId": "b51d512c-791f-43f6-9199-5b633396ffee"
      },
      "execution_count": 18,
      "outputs": [
        {
          "output_type": "execute_result",
          "data": {
            "text/plain": [
              "'succeeded'"
            ],
            "application/vnd.google.colaboratory.intrinsic+json": {
              "type": "string"
            }
          },
          "metadata": {},
          "execution_count": 18
        }
      ]
    },
    {
      "cell_type": "code",
      "source": [
        "''.join(prediction.output)"
      ],
      "metadata": {
        "colab": {
          "base_uri": "https://localhost:8080/",
          "height": 70
        },
        "id": "DIdTadrBujYZ",
        "outputId": "f92d639c-89b9-4c2b-84b9-734f9c2a2cf3"
      },
      "execution_count": 19,
      "outputs": [
        {
          "output_type": "execute_result",
          "data": {
            "text/plain": [
              "'1. What motivated you to learn English? Why were you interested in learning it as a second/third/foreign language?\\n2. Can you give some examples of difficult words or expressions you need help with understanding?\\n3. Do you have any favorite books or authors from your native country?  If so which ones would you recommend for further study or exploration!'"
            ],
            "application/vnd.google.colaboratory.intrinsic+json": {
              "type": "string"
            }
          },
          "metadata": {},
          "execution_count": 19
        }
      ]
    },
    {
      "cell_type": "markdown",
      "source": [
        "# Run a model in the background and get a webhook"
      ],
      "metadata": {
        "id": "X7ZZHjNrunwr"
      }
    },
    {
      "cell_type": "markdown",
      "source": [
        "You can run a model and get a webhook when it completes, instead of waiting for it to finish.\n",
        "\n",
        "If you're working locally, we'd recommend using [ngrok](https://ngrok.com/download) for debugging webhooks. It allows you to tunnel your localhost to a public domain."
      ],
      "metadata": {
        "id": "Y264GRLRuyW2"
      }
    },
    {
      "cell_type": "code",
      "source": [
        "model = replicate.models.get(\"kvfrans/clipdraw\")\n",
        "version = model.versions.get(\"5797a99edc939ea0e9242d5e8c9cb3bc7d125b1eac21bda852e5cb79ede2cd9b\")\n",
        "prediction = replicate.predictions.create(\n",
        "    version=version,\n",
        "    input={\"prompt\":\"Watercolor painting of an underwater submarine\"},\n",
        "    webhook=\"https://example.com/your-webhook\",\n",
        "    webhook_events_filter=[\"completed\"]\n",
        ")"
      ],
      "metadata": {
        "id": "G7iH_9-Lum69"
      },
      "execution_count": null,
      "outputs": []
    },
    {
      "cell_type": "markdown",
      "source": [
        "# Compose models into a pipeline\n",
        "You can run a model and feed the output into another model:"
      ],
      "metadata": {
        "id": "xyfeLTILu3ad"
      }
    },
    {
      "cell_type": "code",
      "source": [
        "# laionide = replicate.models.get(\"afiaka87/laionide-v4\").versions.get(\"b21cbe271e65c1718f2999b038c18b45e21e4fba961181fbfae9342fc53b9e05\")\n",
        "# swinir = replicate.models.get(\"jingyunliang/swinir\").versions.get(\"660d922d33153019e8c263a3bba265de882e7f4f70396546b6c9c8f9d47a021a\")\n",
        "# image = laionide.predict(prompt=\"avocado armchair\")\n",
        "# upscaled_image = swinir.predict(image=image)"
      ],
      "metadata": {
        "id": "Z9VNlqEtu-X5"
      },
      "execution_count": null,
      "outputs": []
    },
    {
      "cell_type": "markdown",
      "source": [],
      "metadata": {
        "id": "GXqf8OmTu-EG"
      }
    },
    {
      "cell_type": "markdown",
      "source": [
        "# Get streaming output from a running model\n",
        "Some models stream output as the model is running. They will return an iterator, and you can iterate over that output:"
      ],
      "metadata": {
        "id": "WM47DByLrk5l"
      }
    },
    {
      "cell_type": "code",
      "source": [
        "iterator = replicate.run(\n",
        "  \"replicate/dolly-v2-12b:ef0e1aefc61f8e096ebe4db6b2bacc297daf2ef6899f0f7e001ec445893500e5\",\n",
        "  input={\"prompt\": \"Who was Dolly the sheep?\"},\n",
        ")\n",
        "for text in iterator:\n",
        "      print(text)"
      ],
      "metadata": {
        "colab": {
          "base_uri": "https://localhost:8080/"
        },
        "id": "hkjJKac8rlS2",
        "outputId": "ab07ed31-8d04-4710-8b4b-47222bcec419"
      },
      "execution_count": null,
      "outputs": [
        {
          "output_type": "stream",
          "name": "stdout",
          "text": [
            "Dolly\n",
            " the\n",
            " sheep\n",
            " was\n",
            " a\n",
            " sheep\n",
            " that\n",
            " belonged\n",
            " to\n",
            " Ian\n",
            " Wilmut\n",
            " and\n",
            " Robert\n",
            " Douglas\n",
            " at\n",
            " The\n",
            " Roslin\n",
            " belonged\n",
            " to\n",
            " Ian\n",
            " Wilmut\n",
            " and\n",
            " Robert\n",
            " Douglas\n",
            " at\n",
            " The\n",
            " Roslin\n",
            " Institute\n",
            " in\n",
            " Scotland.  In\n",
            " 1997,\n",
            " Dolly\n",
            " was\n",
            " the\n",
            " first\n",
            " successfully\n",
            " cloned\n",
            " mammal.\n",
            " She\n",
            " gave\n",
            " sheep\n",
            " that\n",
            " belonged\n",
            " to\n",
            " Ian\n",
            " Wilmut\n",
            " and\n",
            " Robert\n",
            " Douglas\n",
            " at\n",
            " The\n",
            " Roslin\n",
            " Institute\n",
            " in\n",
            " Scotland.  In\n",
            " 1997,\n",
            " Dolly\n",
            " was\n",
            " the\n",
            " first\n",
            " successfully\n",
            " cloned\n",
            " mammal.\n",
            " She\n",
            " gave\n",
            " birth\n",
            " to\n",
            " five\n",
            " clones\n",
            " between\n",
            " 1998\n",
            " and\n",
            " 2003.\n",
            "\n",
            "\n"
          ]
        }
      ]
    },
    {
      "cell_type": "markdown",
      "source": [
        "# Cancel a prediction\n",
        "You can cancel a running prediction:"
      ],
      "metadata": {
        "id": "K7kZwHzLwWoM"
      }
    },
    {
      "cell_type": "code",
      "source": [
        "model = replicate.models.get(\"cjwbw/damo-text-to-video\")\n",
        "version = model.versions.get(\"1e205ea73084bd17a0a3b43396e49ba0d6bc2e754e9283b2df49fad2dcf95755\")\n",
        "\n",
        "prediction = replicate.predictions.create(\n",
        "    version=version,\n",
        "    input={\"prompt\":\"How do you make ratatouille?\"})"
      ],
      "metadata": {
        "id": "YryIQVJ7wWHt"
      },
      "execution_count": null,
      "outputs": []
    },
    {
      "cell_type": "code",
      "source": [
        "prediction.status"
      ],
      "metadata": {
        "colab": {
          "base_uri": "https://localhost:8080/",
          "height": 35
        },
        "id": "zwVtyEVLw4o_",
        "outputId": "53c09862-56f7-4be3-9ad2-e819e689ab2e"
      },
      "execution_count": null,
      "outputs": [
        {
          "output_type": "execute_result",
          "data": {
            "text/plain": [
              "'starting'"
            ],
            "application/vnd.google.colaboratory.intrinsic+json": {
              "type": "string"
            }
          },
          "metadata": {},
          "execution_count": 82
        }
      ]
    },
    {
      "cell_type": "code",
      "source": [
        "prediction.cancel()"
      ],
      "metadata": {
        "id": "BME9JCeNw5qe"
      },
      "execution_count": null,
      "outputs": []
    },
    {
      "cell_type": "code",
      "source": [
        "prediction.reload()"
      ],
      "metadata": {
        "id": "inuDz8Dtw6ox"
      },
      "execution_count": null,
      "outputs": []
    },
    {
      "cell_type": "code",
      "source": [
        "prediction.status"
      ],
      "metadata": {
        "colab": {
          "base_uri": "https://localhost:8080/",
          "height": 35
        },
        "id": "NRZbHkXNw8jJ",
        "outputId": "aaf507ee-eb01-4f4f-9429-cf4c25867c4c"
      },
      "execution_count": null,
      "outputs": [
        {
          "output_type": "execute_result",
          "data": {
            "text/plain": [
              "'canceled'"
            ],
            "application/vnd.google.colaboratory.intrinsic+json": {
              "type": "string"
            }
          },
          "metadata": {},
          "execution_count": 85
        }
      ]
    },
    {
      "cell_type": "code",
      "source": [
        "predictions = replicate.predictions.list()\n",
        "\n",
        "[p.status for p in predictions[:10]]"
      ],
      "metadata": {
        "colab": {
          "base_uri": "https://localhost:8080/"
        },
        "id": "5PV0EnN4xFf5",
        "outputId": "fd630777-a4ef-4aa2-985a-ba304ea482b3"
      },
      "execution_count": null,
      "outputs": [
        {
          "output_type": "execute_result",
          "data": {
            "text/plain": [
              "['succeeded',\n",
              " 'processing',\n",
              " 'succeeded',\n",
              " 'succeeded',\n",
              " 'succeeded',\n",
              " 'succeeded',\n",
              " 'succeeded',\n",
              " 'succeeded',\n",
              " 'succeeded',\n",
              " 'succeeded']"
            ]
          },
          "metadata": {},
          "execution_count": 94
        }
      ]
    },
    {
      "cell_type": "markdown",
      "source": [
        "# Load output files\n",
        "Output files are returned as HTTPS URLs. You can load an output file as a buffer:"
      ],
      "metadata": {
        "id": "5cuMDPg1xjQZ"
      }
    },
    {
      "cell_type": "code",
      "source": [
        "from urllib.request import urlretrieve\n",
        "\n",
        "model = replicate.models.get(\"stability-ai/stable-diffusion\")\n",
        "version = model.versions.get(\"27b93a2413e7f36cd83da926f3656280b2931564ff050bf9575f1fdf9bcd7478\")\n",
        "out = version.predict(prompt=\"wavy colorful abstract patterns, cgsociety\")\n",
        "urlretrieve(out[0], \"/tmp/out.png\")"
      ],
      "metadata": {
        "colab": {
          "base_uri": "https://localhost:8080/"
        },
        "id": "CTcA8OGYxmCe",
        "outputId": "bc5336ae-098d-42ec-9e12-b5f4f2cf483c"
      },
      "execution_count": null,
      "outputs": [
        {
          "output_type": "execute_result",
          "data": {
            "text/plain": [
              "('/tmp/out.png', <http.client.HTTPMessage at 0x7fbf0bf21370>)"
            ]
          },
          "metadata": {},
          "execution_count": 97
        }
      ]
    },
    {
      "cell_type": "markdown",
      "source": [
        "# Next steps\n",
        "\n",
        "- Explore our collection of hosted [models](https://replicate.com/explore)\n",
        "\n",
        "\n",
        "\n",
        "- Learn about how to integrate with [LangChain](https://python.langchain.com/en/latest/modules/models/llms/integrations/replicate.html)\n",
        "\n",
        "\n",
        "\n",
        "- Note that you can also run models with the raw HTTP API. Refer to the [HTTP API reference](https://replicate.com/docs/reference/http) for more details."
      ],
      "metadata": {
        "id": "vz6FASGXsefP"
      }
    },
    {
      "cell_type": "code",
      "source": [],
      "metadata": {
        "id": "yzRipDfdyu_D"
      },
      "execution_count": null,
      "outputs": []
    }
  ]
}