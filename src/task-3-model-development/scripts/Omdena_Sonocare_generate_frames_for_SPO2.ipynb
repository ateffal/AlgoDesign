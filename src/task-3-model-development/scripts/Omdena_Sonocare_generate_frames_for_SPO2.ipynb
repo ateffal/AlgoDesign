{
  "nbformat": 4,
  "nbformat_minor": 0,
  "metadata": {
    "colab": {
      "provenance": [],
      "mount_file_id": "1atVjhr8FKIwgl5-X2tg9gar9WtcqXJOb",
      "authorship_tag": "ABX9TyNGYCiFIdzyARS7590YBexO",
      "include_colab_link": true
    },
    "kernelspec": {
      "name": "python3",
      "display_name": "Python 3"
    },
    "language_info": {
      "name": "python"
    }
  },
  "cells": [
    {
      "cell_type": "markdown",
      "metadata": {
        "id": "view-in-github",
        "colab_type": "text"
      },
      "source": [
        "<a href=\"https://colab.research.google.com/github/ateffal/AlgoDesign/blob/master/src/task-3-model-development/scripts/Omdena_Sonocare_generate_frames_for_SPO2.ipynb\" target=\"_parent\"><img src=\"https://colab.research.google.com/assets/colab-badge.svg\" alt=\"Open In Colab\"/></a>"
      ]
    },
    {
      "cell_type": "markdown",
      "source": [
        "# The purpose of this notebook is to calculate rPPG and SPO2 for all videos in African_Skintones_VBPE_dataset_filtered_videos"
      ],
      "metadata": {
        "id": "yiL__WjNaB4N"
      }
    },
    {
      "cell_type": "code",
      "execution_count": 53,
      "metadata": {
        "id": "KJzncEDbZ6kd"
      },
      "outputs": [],
      "source": [
        "!pip install -q mediapipe opencv-python"
      ]
    },
    {
      "cell_type": "code",
      "source": [
        "import cv2\n",
        "import mediapipe as mp\n",
        "import numpy as np\n",
        "import os\n",
        "from google.colab.patches import cv2_imshow\n",
        "import pandas as pd\n",
        "import matplotlib.pyplot as plt\n",
        "from scipy.signal import butter, lfilter, filtfilt\n",
        "from PIL import Image, ImageEnhance\n",
        "from skimage import io, exposure\n",
        "from skimage.color import rgb2gray, gray2rgb"
      ],
      "metadata": {
        "id": "1eUbb_4sgONn"
      },
      "execution_count": 54,
      "outputs": []
    },
    {
      "cell_type": "code",
      "source": [
        "# mount drive\n",
        "from google.colab import drive\n",
        "# drive.mount('/content/drive')"
      ],
      "metadata": {
        "id": "ctYYxBPogVdN"
      },
      "execution_count": 55,
      "outputs": []
    },
    {
      "cell_type": "markdown",
      "source": [
        "# Helpers functions for Image Enhancement"
      ],
      "metadata": {
        "id": "syJKYvWIgcDO"
      }
    },
    {
      "cell_type": "code",
      "source": [
        "def denoise_image(image):\n",
        "  # Apply Non-Local Means Denoising\n",
        "  denoised_image = cv2.fastNlMeansDenoisingColored(image, None, 10, 10, 7, 21)\n",
        "  return denoised_image\n",
        "\n",
        "def sharpen_image(image, kernel = np.array([[0, -1, 0], [-1, 5, -1], [0, -1, 0]])):\n",
        "  # Apply the kernel to the image\n",
        "  sharpened_image = cv2.filter2D(image, -1, kernel)\n",
        "  return sharpened_image\n",
        "\n",
        "def enhance_image(image, grightess_ratio=1.5, contrast_ratio=1.5):\n",
        "\n",
        "  # # Convert the image to grayscale\n",
        "  gray = cv2.cvtColor(image, cv2.COLOR_BGR2GRAY)\n",
        "\n",
        "  # # Apply histogram equalization\n",
        "  equalized_image = cv2.equalizeHist(gray)\n",
        "\n",
        "  # Convert back to RGB\n",
        "  equalized_image = gray2rgb(equalized_image)\n",
        "\n",
        "  return equalized_image\n",
        "\n",
        "###############################################################################\n",
        "\n",
        "def enhance_brightness_contrast(image, grightess_ratio=1.5, contrast_ratio=1.5):\n",
        "  # Enhance brightness\n",
        "  enhancer = ImageEnhance.Brightness(image)\n",
        "  bright_image = enhancer.enhance(grightess_ratio)  # Increase brightness by 50% if grightess_ratio = 1.5\n",
        "\n",
        "  # Enhance contrast\n",
        "  enhancer = ImageEnhance.Contrast(bright_image)\n",
        "  contrast_image = enhancer.enhance(contrast_ratio)  # # Increase constrat by 50% if contrast_ratio = 1.5\n",
        "\n",
        "  return contrast_image\n"
      ],
      "metadata": {
        "id": "04ZtWwsagZen"
      },
      "execution_count": 56,
      "outputs": []
    },
    {
      "cell_type": "code",
      "source": [
        "def butter_bandpass(lowcut, highcut, fs, order=5):\n",
        "    nyq = 0.5 * fs\n",
        "    low = lowcut / nyq\n",
        "    high = highcut / nyq\n",
        "    b, a = butter(order, [low, high], btype='band')\n",
        "    return b, a\n",
        "\n",
        "def butter_bandpass_filter(data, lowcut, highcut, fs, order=5):\n",
        "    b, a = butter_bandpass(lowcut, highcut, fs, order=order)\n",
        "    y = lfilter(b, a, data)\n",
        "    return y\n",
        "\n",
        "# Example usage (replace with your signal and parameters):\n",
        "# pos_filtered = butter_bandpass_filter(pos_signal, 0.5, 5.0, 30)"
      ],
      "metadata": {
        "id": "pQqn_RkAiQ0H"
      },
      "execution_count": 57,
      "outputs": []
    },
    {
      "cell_type": "code",
      "source": [
        "def chrom_rppg(frames):\n",
        "    \"\"\"\n",
        "    Extract rPPG signals from video frames using the CHROM method.\n",
        "\n",
        "    \"\"\"\n",
        "    if len(frames) < 10:  # Ensure enough frames for filtering - for testing purpose put it to 10. Was 33\n",
        "        print(f\"❌ Not enough frames ({len(frames)}) for {roi}. Skipping...\")\n",
        "        return None\n",
        "\n",
        "    Xs, Ys, Zs = [], [], []\n",
        "\n",
        "    for frame in frames:\n",
        "        h, w, _ = frame.shape\n",
        "\n",
        "        # Extract Region of Interest (ROI) for Face or Hand\n",
        "        roi_box = frame # frame[int(h * 0.2):int(h * 0.4), int(w * 0.3):int(w * 0.7)]  # Face region - but here we assume that frames are already faces\n",
        "\n",
        "        b, g, r = cv2.split(roi_box)\n",
        "        Xs.append(np.mean(r))\n",
        "        Ys.append(np.mean(g))\n",
        "        Zs.append(np.mean(b))\n",
        "\n",
        "    Xs, Ys, Zs = np.array(Xs), np.array(Ys), np.array(Zs)\n",
        "\n",
        "    # CHROM method: Linear combination\n",
        "    rppg_signal = 3 * Xs - 2 * Ys # formula uses red and green, what about blue ?\n",
        "\n",
        "    rppg_filtered = butter_bandpass_filter(rppg_signal, 0.5, 5.0, 30) # need to dig in the last three parameters !\n",
        "\n",
        "    return rppg_filtered"
      ],
      "metadata": {
        "id": "N52eKTwaiSdF"
      },
      "execution_count": 58,
      "outputs": []
    },
    {
      "cell_type": "code",
      "source": [],
      "metadata": {
        "id": "HBnlib_VvQXa"
      },
      "execution_count": 58,
      "outputs": []
    },
    {
      "cell_type": "code",
      "source": [
        "def split_cap(video_name, videos_path, frames_path, time_step = 3):\n",
        "  mp_face = mp.solutions.face_detection\n",
        "  mp_drawing = mp.solutions.drawing_utils\n",
        "  frame_count = 0\n",
        "  # one image per time_step (in seconds) - to avoid memory issue get only one image per 3 second.\n",
        "                # we are just experimenting\n",
        "\n",
        "  # read the video\n",
        "  cap = cv2.VideoCapture(videos_path + \"/\" + video_name)\n",
        "\n",
        "  frame_rate = cap.get(cv2.CAP_PROP_FPS)\n",
        "  frame_skip = frame_rate*time_step\n",
        "\n",
        "  n = 0 # for limiting outputed images - avoid printing size exceeded issue\n",
        "\n",
        "  with mp_face.FaceDetection(min_detection_confidence=0.5, model_selection=0) as face_detection: # model_selection = 0 --> camera distance less than 2 meters\n",
        "    while cap.isOpened():\n",
        "      ret, frame = cap.read()  # ret : True if the frame was read successfully. False otherwise\n",
        "      if not ret:\n",
        "        break\n",
        "      # Skip frames\n",
        "      if frame_count % frame_skip != 0:\n",
        "        frame_count += 1\n",
        "        continue\n",
        "\n",
        "      frame_rgb = cv2.cvtColor(frame, cv2.COLOR_BGR2RGB) # transform from bgr to rgb\n",
        "      results = face_detection.process(frame_rgb)\n",
        "      if results.detections: # normally we should detect only one face !\n",
        "        for detection in results.detections:\n",
        "          mp_drawing.draw_detection(frame_rgb, detection)\n",
        "\n",
        "      # get the face only - assuming we detected one face in the frame\n",
        "      bbox = results.detections[0].location_data.relative_bounding_box\n",
        "      # get dimensions of img_rgb\n",
        "      height, width, _ = frame_rgb.shape\n",
        "      x = int(bbox.xmin * width)\n",
        "      y = int(bbox.ymin * height)\n",
        "      w = int(bbox.width * width)\n",
        "      h = int(bbox.height * height)\n",
        "      face_image = frame_rgb[y:y+h, x:x+w]\n",
        "      # print(\"face number : \" + str(n))\n",
        "      # cv2_imshow(face_image)\n",
        "\n",
        "      # Save the frame as an image\n",
        "      face_image = cv2.cvtColor(face_image, cv2.COLOR_RGB2BGR)\n",
        "      cv2.imwrite(frames_path + 'frame_' + str(frame_count) + '.jpg', face_image)\n",
        "\n",
        "      frame_count += 1\n",
        "      n = n+1\n",
        "\n",
        "  cap.release()\n",
        "  cv2.destroyAllWindows()"
      ],
      "metadata": {
        "id": "iW7sv741u11j"
      },
      "execution_count": 59,
      "outputs": []
    },
    {
      "cell_type": "markdown",
      "source": [
        "# Process all videos"
      ],
      "metadata": {
        "id": "VIH6UgwRgr3n"
      }
    },
    {
      "cell_type": "code",
      "source": [
        "!rm -rf /content/drive/MyDrive/Sonocare/sonocare/frames/*"
      ],
      "metadata": {
        "id": "JnFBPOa1xiX6"
      },
      "execution_count": 60,
      "outputs": []
    },
    {
      "cell_type": "code",
      "source": [
        "# path for videos\n",
        "videos_path = \"/content/drive/MyDrive/Sonocare/sonocare/African_Skintones_VBPE_dataset_filtered_videos/\""
      ],
      "metadata": {
        "id": "ztlU7Q9zuhZ5"
      },
      "execution_count": 61,
      "outputs": []
    },
    {
      "cell_type": "code",
      "source": [
        "# put files of videos_path folder in a list\n",
        "videos_list = os.listdir(videos_path)"
      ],
      "metadata": {
        "id": "A05qCJrtuxyR"
      },
      "execution_count": 62,
      "outputs": []
    },
    {
      "cell_type": "code",
      "source": [
        "videos_list = [v for v in videos_list if v.endswith(\".mp4\")]\n",
        "videos_list = [v for v in videos_list if v.startswith(\"Copy\")]\n",
        "videos_list"
      ],
      "metadata": {
        "colab": {
          "base_uri": "https://localhost:8080/"
        },
        "id": "oqIMl1Evu0tY",
        "outputId": "20b61371-22fb-4009-c096-cd2b51ccd1a8"
      },
      "execution_count": 63,
      "outputs": [
        {
          "output_type": "execute_result",
          "data": {
            "text/plain": [
              "['Copy of SL463.mp4',\n",
              " 'Copy of SL497.mp4',\n",
              " 'Copy of SL674.mp4',\n",
              " 'Copy of SL470.mp4',\n",
              " 'Copy of SL433.mp4',\n",
              " 'Copy of SL481.mp4',\n",
              " 'Copy of SL465.mp4',\n",
              " 'Copy of SL689 (1).mp4',\n",
              " 'Copy of SL688 (1).mp4',\n",
              " 'Copy of SL682 (1).mp4',\n",
              " 'Copy of SL484.mp4',\n",
              " 'Copy of SL687 (1).mp4',\n",
              " 'Copy of SL679.mp4',\n",
              " 'Copy of SL410.mp4',\n",
              " 'Copy of SL428.mp4',\n",
              " 'Copy of SL337.mp4',\n",
              " 'Copy of SL348.mp4',\n",
              " 'Copy of SL426.mp4',\n",
              " 'Copy of SL411.mp4',\n",
              " 'Copy of SL351.mp4',\n",
              " 'Copy of SL377.mp4',\n",
              " 'Copy of SL424.mp4',\n",
              " 'Copy of SL309.mp4',\n",
              " 'Copy of SL412.mp4',\n",
              " 'Copy of SL310.mp4',\n",
              " 'Copy of SL407.mp4',\n",
              " 'Copy of SL413.mp4',\n",
              " 'Copy of SL577.mp4',\n",
              " 'Copy of SL630.mp4',\n",
              " 'Copy of SL633.mp4',\n",
              " 'Copy of SL576.mp4',\n",
              " 'Copy of SL597.mp4',\n",
              " 'Copy of SL585.mp4',\n",
              " 'Copy of SL628.mp4',\n",
              " 'Copy of SL593.mp4',\n",
              " 'Copy of SL592.mp4',\n",
              " 'Copy of SL580.mp4',\n",
              " 'Copy of SL591.mp4',\n",
              " 'Copy of SL590.mp4',\n",
              " 'Copy of SL583.mp4',\n",
              " 'Copy of SL656.mp4',\n",
              " 'Copy of SL662.mp4',\n",
              " 'Copy of SL668.mp4',\n",
              " 'Copy of SL655.mp4',\n",
              " 'Copy of SL661.mp4',\n",
              " 'Copy of SL640.mp4',\n",
              " 'Copy of SL623.mp4',\n",
              " 'Copy of SL240.mp4',\n",
              " 'Copy of SL602.mp4',\n",
              " 'Copy of SL270.mp4',\n",
              " 'Copy of SL269.mp4',\n",
              " 'Copy of SL622.mp4',\n",
              " 'Copy of SL237.mp4',\n",
              " 'Copy of SL626.mp4',\n",
              " 'Copy of SL271.mp4',\n",
              " 'Copy of SL621.mp4',\n",
              " 'Copy of SL261.mp4',\n",
              " 'Copy of SL304.mp4',\n",
              " 'Copy of IN606.mp4',\n",
              " 'Copy of IN901.mp4',\n",
              " 'Copy of IN602.mp4',\n",
              " 'Copy of IN614.mp4',\n",
              " 'Copy of IN905.mp4',\n",
              " 'Copy of SL132.mp4',\n",
              " 'Copy of SL182.mp4',\n",
              " 'Copy of SL133.mp4',\n",
              " 'Copy of SL146.mp4',\n",
              " 'Copy of SL124.mp4',\n",
              " 'Copy of SL191.mp4',\n",
              " 'Copy of SL153.mp4',\n",
              " 'Copy of SL569.mp4',\n",
              " 'Copy of IN660.mp4',\n",
              " 'Copy of SL598.mp4',\n",
              " 'Copy of IN825.mp4',\n",
              " 'Copy of SL554.mp4',\n",
              " 'Copy of SL553.mp4',\n",
              " 'Copy of SL556.mp4',\n",
              " 'Copy of SL552.mp4',\n",
              " 'Copy of SL557.mp4',\n",
              " 'Copy of SL227.mp4',\n",
              " 'Copy of SL559.mp4',\n",
              " 'Copy of SL555.mp4',\n",
              " 'Copy of SL578.mp4',\n",
              " 'Copy of SL568.mp4',\n",
              " 'Copy of SL571.mp4',\n",
              " 'Copy of SL564.mp4',\n",
              " 'Copy of SL562.mp4',\n",
              " 'Copy of SL561.mp4',\n",
              " 'Copy of SL574.mp4',\n",
              " 'Copy of SL572.mp4',\n",
              " 'Copy of SL607.mp4',\n",
              " 'Copy of SL606.mp4',\n",
              " 'Copy of SL609.mp4',\n",
              " 'Copy of SL529.mp4',\n",
              " 'Copy of SL524.mp4',\n",
              " 'Copy of SL608.mp4',\n",
              " 'Copy of SL531.mp4',\n",
              " 'Copy of SL510.mp4',\n",
              " 'Copy of SL603.mp4',\n",
              " 'Copy of SL600.mp4',\n",
              " 'Copy of SL615.mp4',\n",
              " 'Copy of SL618.mp4',\n",
              " 'Copy of SL611.mp4',\n",
              " 'Copy of SL610.mp4',\n",
              " 'Copy of SL613.mp4',\n",
              " 'Copy of SL617.mp4',\n",
              " 'Copy of SL619.mp4',\n",
              " 'Copy of SL624.mp4',\n",
              " 'Copy of SL501.mp4',\n",
              " 'Copy of SL505.mp4',\n",
              " 'Copy of SL499.mp4',\n",
              " 'Copy of SL475.mp4',\n",
              " 'Copy of SL474.mp4',\n",
              " 'Copy of SL512.mp4',\n",
              " 'Copy of SL496.mp4',\n",
              " 'Copy of SL522.mp4',\n",
              " 'Copy of SL520.mp4',\n",
              " 'Copy of SL518.mp4',\n",
              " 'Copy of SL527.mp4',\n",
              " 'Copy of SL514.mp4',\n",
              " 'Copy of SL181.mp4',\n",
              " 'Copy of SL194.mp4',\n",
              " 'Copy of SL204.mp4',\n",
              " 'Copy of SL217.mp4',\n",
              " 'Copy of SL183.mp4',\n",
              " 'Copy of SL219.mp4',\n",
              " 'Copy of SL211.mp4',\n",
              " 'Copy of SL550.mp4',\n",
              " 'Copy of SL225.mp4',\n",
              " 'Copy of SL229.mp4',\n",
              " 'Copy of SL543.mp4',\n",
              " 'Copy of SL540.mp4',\n",
              " 'Copy of SL220.mp4',\n",
              " 'Copy of SL536.mp4',\n",
              " 'Copy of SL539.mp4',\n",
              " 'Copy of SL221.mp4',\n",
              " 'Copy of IN585.mp4',\n",
              " 'Copy of IN779.mp4',\n",
              " 'Copy of IN765.mp4',\n",
              " 'Copy of IN747.mp4']"
            ]
          },
          "metadata": {},
          "execution_count": 63
        }
      ]
    },
    {
      "cell_type": "code",
      "source": [
        "frames_path = \"/content/drive/MyDrive/Sonocare/sonocare/frames/\""
      ],
      "metadata": {
        "id": "jN5PoG5UvV4B"
      },
      "execution_count": 64,
      "outputs": []
    },
    {
      "cell_type": "code",
      "source": [
        "for v in videos_list:#[0:20]:\n",
        "  if not os.path.exists(frames_path + v[:-4] + \"/\"):\n",
        "    os.makedirs(frames_path + v[:-4] + \"/\")\n",
        "    try:\n",
        "      split_cap(v, videos_path, frames_path + v[:-4] + \"/\")\n",
        "    except:\n",
        "      print(\"error in video : \" + v)\n",
        "      continue\n",
        "    # split_cap(v, videos_path, frames_path + v[:-4] + \"/\")\n",
        "  else:\n",
        "    print(\"folder already exists ! - video not proccessed !\" )"
      ],
      "metadata": {
        "id": "qwIurFZzvUOo",
        "colab": {
          "base_uri": "https://localhost:8080/"
        },
        "outputId": "1e8920ba-dff3-4295-eccc-76df5bd35b70"
      },
      "execution_count": 65,
      "outputs": [
        {
          "output_type": "stream",
          "name": "stdout",
          "text": [
            "error in video : Copy of SL679.mp4\n",
            "error in video : Copy of SL622.mp4\n",
            "error in video : Copy of SL183.mp4\n",
            "error in video : Copy of SL543.mp4\n",
            "error in video : Copy of SL220.mp4\n"
          ]
        }
      ]
    },
    {
      "cell_type": "code",
      "source": [],
      "metadata": {
        "id": "YYwCKV2eSGyH"
      },
      "execution_count": 65,
      "outputs": []
    }
  ]
}